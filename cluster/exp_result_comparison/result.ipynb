{
 "cells": [
  {
   "cell_type": "code",
   "execution_count": 1,
   "metadata": {},
   "outputs": [
    {
     "data": {
      "text/plain": [
       "(tensor(0.7819), tensor(0.0010), torch.Size([10]))"
      ]
     },
     "execution_count": 1,
     "metadata": {},
     "output_type": "execute_result"
    }
   ],
   "source": [
    "# --attn-dropout 0.5 --tlayer-dropout 0.1 --lr 0.001 --num-heads 8 --scheduler cosine\n",
    "\n",
    "import torch \n",
    "\n",
    "test = torch.tensor([0.7817, 0.7820, 0.7820, 0.7806, 0.7813, 0.7802, 0.7817, 0.7830, 0.7826, 0.7834]) \n",
    "test.mean(), test.std(), test.shape"
   ]
  },
  {
   "cell_type": "code",
   "execution_count": 3,
   "metadata": {},
   "outputs": [
    {
     "data": {
      "text/plain": [
       "(tensor(0.7834), tensor(0.0014), torch.Size([10]))"
      ]
     },
     "execution_count": 3,
     "metadata": {},
     "output_type": "execute_result"
    }
   ],
   "source": [
    "\n",
    "val = torch.tensor([0.7820, 0.7835, 0.7834, 0.7841, 0.7826, 0.7819, 0.7818, 0.7861, 0.7835, 0.7847]) \n",
    "val.mean(), val.std(), val.shape"
   ]
  },
  {
   "cell_type": "code",
   "execution_count": 2,
   "metadata": {},
   "outputs": [
    {
     "data": {
      "text/plain": [
       "(tensor(0.7815), tensor(0.0014), torch.Size([10]))"
      ]
     },
     "execution_count": 2,
     "metadata": {},
     "output_type": "execute_result"
    }
   ],
   "source": [
    "# --lr 0.001 --attn-dropout 0.2 --tlayer-dropout 0.2 --scheduler linear\n",
    "\n",
    "import torch \n",
    "\n",
    "test = torch.tensor([0.7824, 0.7799, 0.7827, 0.7820, 0.7829, 0.7801, 0.7792, 0.7807, 0.7829, 0.7822]) \n",
    "test.mean(), test.std(), test.shape"
   ]
  },
  {
   "cell_type": "code",
   "execution_count": 4,
   "metadata": {},
   "outputs": [
    {
     "data": {
      "text/plain": [
       "(tensor(0.7836), tensor(0.0010), torch.Size([10]))"
      ]
     },
     "execution_count": 4,
     "metadata": {},
     "output_type": "execute_result"
    }
   ],
   "source": [
    "\n",
    "val = torch.tensor([0.7825, 0.7836, 0.7837, 0.7834, 0.7828, 0.7837, 0.7831, 0.7861, 0.7832, 0.7839]) \n",
    "val.mean(), val.std(), val.shape"
   ]
  }
 ],
 "metadata": {
  "interpreter": {
   "hash": "f5e28a78f2410d32dd66bc727fdc315e93a04392a16e4ba8395b9ce0a0c53391"
  },
  "kernelspec": {
   "display_name": "Python 3.9.0 ('genv18')",
   "language": "python",
   "name": "python3"
  },
  "language_info": {
   "codemirror_mode": {
    "name": "ipython",
    "version": 3
   },
   "file_extension": ".py",
   "mimetype": "text/x-python",
   "name": "python",
   "nbconvert_exporter": "python",
   "pygments_lexer": "ipython3",
   "version": "3.9.0"
  },
  "orig_nbformat": 4
 },
 "nbformat": 4,
 "nbformat_minor": 2
}
