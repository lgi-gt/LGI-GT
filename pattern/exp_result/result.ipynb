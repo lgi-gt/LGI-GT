{
 "cells": [
  {
   "cell_type": "code",
   "execution_count": 1,
   "metadata": {},
   "outputs": [
    {
     "data": {
      "text/plain": [
       "(tensor(0.8693), tensor(0.0004), torch.Size([10]))"
      ]
     },
     "execution_count": 1,
     "metadata": {},
     "output_type": "execute_result"
    }
   ],
   "source": [
    "import torch \n",
    "\n",
    "test = torch.tensor([0.8692, 0.8692, 0.8691, 0.8700, 0.8692, 0.8694, 0.8695, 0.8686, 0.8691, 0.8695, ]) \n",
    "test.mean(), test.std(), test.shape"
   ]
  },
  {
   "cell_type": "code",
   "execution_count": 2,
   "metadata": {},
   "outputs": [
    {
     "data": {
      "text/plain": [
       "(tensor(0.8682), tensor(0.0002), torch.Size([10]))"
      ]
     },
     "execution_count": 2,
     "metadata": {},
     "output_type": "execute_result"
    }
   ],
   "source": [
    "import torch \n",
    "\n",
    "val = torch.tensor([0.8683, 0.8681, 0.8678, 0.8683, 0.8681, 0.8684, 0.8684, 0.8681, 0.8681, 0.8681]) \n",
    "val.mean(), val.std(), val.shape"
   ]
  }
 ],
 "metadata": {
  "interpreter": {
   "hash": "f5e28a78f2410d32dd66bc727fdc315e93a04392a16e4ba8395b9ce0a0c53391"
  },
  "kernelspec": {
   "display_name": "Python 3.9.0 ('genv18')",
   "language": "python",
   "name": "python3"
  },
  "language_info": {
   "codemirror_mode": {
    "name": "ipython",
    "version": 3
   },
   "file_extension": ".py",
   "mimetype": "text/x-python",
   "name": "python",
   "nbconvert_exporter": "python",
   "pygments_lexer": "ipython3",
   "version": "3.9.0"
  },
  "orig_nbformat": 4
 },
 "nbformat": 4,
 "nbformat_minor": 2
}
