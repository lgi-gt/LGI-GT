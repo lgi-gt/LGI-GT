{
 "cells": [
  {
   "cell_type": "code",
   "execution_count": 2,
   "metadata": {},
   "outputs": [
    {
     "data": {
      "text/plain": [
       "(tensor(0.3031), tensor(0.0014))"
      ]
     },
     "execution_count": 2,
     "metadata": {},
     "output_type": "execute_result"
    }
   ],
   "source": [
    "import torch \n",
    "\n",
    "test = torch.tensor([ \n",
    "    0.3032, \n",
    "    0.3026,\n",
    "    0.3012,\n",
    "    0.3032,\n",
    "    0.3024,\n",
    "    0.3029,\n",
    "    0.3048,\n",
    "    0.3055,\n",
    "    0.3011,\n",
    "    0.3038\n",
    "]) \n",
    "\n",
    "test.mean(), test.std() "
   ]
  }
 ],
 "metadata": {
  "interpreter": {
   "hash": "f5e28a78f2410d32dd66bc727fdc315e93a04392a16e4ba8395b9ce0a0c53391"
  },
  "kernelspec": {
   "display_name": "Python 3.9.0 ('genv18')",
   "language": "python",
   "name": "python3"
  },
  "language_info": {
   "codemirror_mode": {
    "name": "ipython",
    "version": 3
   },
   "file_extension": ".py",
   "mimetype": "text/x-python",
   "name": "python",
   "nbconvert_exporter": "python",
   "pygments_lexer": "ipython3",
   "version": "3.9.0"
  },
  "orig_nbformat": 4
 },
 "nbformat": 4,
 "nbformat_minor": 2
}
