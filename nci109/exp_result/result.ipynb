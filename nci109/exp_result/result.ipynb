{
 "cells": [
  {
   "cell_type": "code",
   "execution_count": 1,
   "metadata": {},
   "outputs": [],
   "source": [
    "import torch "
   ]
  },
  {
   "cell_type": "code",
   "execution_count": 2,
   "metadata": {},
   "outputs": [
    {
     "data": {
      "text/plain": [
       "(20, 20)"
      ]
     },
     "execution_count": 2,
     "metadata": {},
     "output_type": "execute_result"
    }
   ],
   "source": [
    "f = open('one_20runs_tmp.txt', 'r')  \n",
    "s = f.read() \n",
    "f.close() \n",
    "ss = s.split('\\n') \n",
    "# ss \n",
    "val_list = [float(log.split('Val: ')[1][:5]) for log in ss if log != '' ] \n",
    "test_list = [float(log.split('Test Score: ')[1][:5]) for log in ss if log != '' ] \n",
    "len(val_list), len(test_list) "
   ]
  },
  {
   "cell_type": "code",
   "execution_count": 3,
   "metadata": {},
   "outputs": [
    {
     "data": {
      "text/plain": [
       "(tensor(82.3435), tensor(1.8917))"
      ]
     },
     "execution_count": 3,
     "metadata": {},
     "output_type": "execute_result"
    }
   ],
   "source": [
    "test = torch.tensor(test_list) \n",
    "test.mean(), test.std() "
   ]
  },
  {
   "cell_type": "code",
   "execution_count": 4,
   "metadata": {},
   "outputs": [
    {
     "data": {
      "text/plain": [
       "(tensor(84.2110), tensor(1.3236))"
      ]
     },
     "execution_count": 4,
     "metadata": {},
     "output_type": "execute_result"
    }
   ],
   "source": [
    "val = torch.tensor(val_list) \n",
    "val.mean(), val.std() "
   ]
  }
 ],
 "metadata": {
  "interpreter": {
   "hash": "bfe7cb134f73dfab38ea71f95e95d39e5dab0c14c773e85f09e4509617755691"
  },
  "kernelspec": {
   "display_name": "Python 3.8.13 ('genv')",
   "language": "python",
   "name": "python3"
  },
  "language_info": {
   "codemirror_mode": {
    "name": "ipython",
    "version": 3
   },
   "file_extension": ".py",
   "mimetype": "text/x-python",
   "name": "python",
   "nbconvert_exporter": "python",
   "pygments_lexer": "ipython3",
   "version": "3.9.15"
  },
  "orig_nbformat": 4
 },
 "nbformat": 4,
 "nbformat_minor": 2
}
