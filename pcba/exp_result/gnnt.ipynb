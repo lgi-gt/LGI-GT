{
 "cells": [
  {
   "cell_type": "code",
   "execution_count": 3,
   "metadata": {},
   "outputs": [
    {
     "data": {
      "text/plain": [
       "(tensor(0.2681), tensor(0.0056))"
      ]
     },
     "execution_count": 3,
     "metadata": {},
     "output_type": "execute_result"
    }
   ],
   "source": [
    "import torch \n",
    "\n",
    "eela = torch.tensor([ \n",
    "    0.2732,\n",
    "    0.2675,\n",
    "    0.2683,\n",
    "    0.2653,\n",
    "    0.2658,\n",
    "    0.2681,\n",
    "    0.2548,\n",
    "    0.2721,\n",
    "    0.2726,\n",
    "    0.2734\n",
    "])\n",
    "eela.mean(), eela.std() "
   ]
  },
  {
   "cell_type": "code",
   "execution_count": 2,
   "metadata": {},
   "outputs": [
    {
     "data": {
      "text/plain": [
       "(tensor(0.2523), tensor(0.0059))"
      ]
     },
     "execution_count": 2,
     "metadata": {},
     "output_type": "execute_result"
    }
   ],
   "source": [
    "import torch \n",
    "\n",
    "gatconv = torch.tensor([ \n",
    "    0.2498,\n",
    "    0.2495,\n",
    "    0.2542,\n",
    "    0.2569,\n",
    "    0.2450,\n",
    "    0.2495,\n",
    "    0.2645,\n",
    "    0.2566,\n",
    "    0.2508,\n",
    "    0.2459\n",
    "]) \n",
    "gatconv.mean(), gatconv.std() "
   ]
  },
  {
   "cell_type": "code",
   "execution_count": 1,
   "metadata": {},
   "outputs": [
    {
     "data": {
      "text/plain": [
       "(tensor(0.2402), tensor(0.0062))"
      ]
     },
     "execution_count": 1,
     "metadata": {},
     "output_type": "execute_result"
    }
   ],
   "source": [
    "import torch \n",
    "\n",
    "transformerconv = torch.tensor([ \n",
    "    0.2433,\n",
    "    0.2406,\n",
    "    0.2378,\n",
    "    0.2362,\n",
    "    0.2448,\n",
    "    0.2303,\n",
    "    0.2406,\n",
    "    0.2475,\n",
    "    0.2489,\n",
    "    0.2320\n",
    "]) \n",
    "transformerconv.mean(), transformerconv.std() "
   ]
  }
 ],
 "metadata": {
  "interpreter": {
   "hash": "341944e75731248762244a78abc7aab60acf269663e2c4583244c63406468318"
  },
  "kernelspec": {
   "display_name": "Python 3.9.15 64-bit ('genv': conda)",
   "language": "python",
   "name": "python3"
  },
  "language_info": {
   "codemirror_mode": {
    "name": "ipython",
    "version": 3
   },
   "file_extension": ".py",
   "mimetype": "text/x-python",
   "name": "python",
   "nbconvert_exporter": "python",
   "pygments_lexer": "ipython3",
   "version": "3.9.13"
  },
  "orig_nbformat": 4
 },
 "nbformat": 4,
 "nbformat_minor": 2
}
