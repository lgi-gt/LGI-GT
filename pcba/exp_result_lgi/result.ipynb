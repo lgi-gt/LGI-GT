{
 "cells": [
  {
   "cell_type": "code",
   "execution_count": 1,
   "metadata": {},
   "outputs": [
    {
     "data": {
      "text/plain": [
       "(tensor(0.2988), tensor(0.0027))"
      ]
     },
     "execution_count": 1,
     "metadata": {},
     "output_type": "execute_result"
    }
   ],
   "source": [
    "# in 9017, {2 gat conv + 1 tlayer } x 3\n",
    "import torch \n",
    "\n",
    "test = torch.tensor([0.2975, 0.3029, 0.3025, 0.2976, 0.2958, 0.2996, 0.2977, 0.2999, 0.2997, 0.2945]) \n",
    "test.mean(), test.std() "
   ]
  },
  {
   "cell_type": "code",
   "execution_count": 2,
   "metadata": {},
   "outputs": [
    {
     "data": {
      "text/plain": [
       "(tensor(0.3128), tensor(0.0039))"
      ]
     },
     "execution_count": 2,
     "metadata": {},
     "output_type": "execute_result"
    }
   ],
   "source": [
    "val = torch.tensor([0.3127, 0.3109, 0.3197, 0.3106, 0.3130, 0.3113, 0.3096, 0.3069, 0.3180, 0.3149]) \n",
    "val.mean(), val.std() "
   ]
  },
  {
   "cell_type": "code",
   "execution_count": 3,
   "metadata": {},
   "outputs": [
    {
     "data": {
      "text/plain": [
       "(tensor(0.2995), tensor(0.0039))"
      ]
     },
     "execution_count": 3,
     "metadata": {},
     "output_type": "execute_result"
    }
   ],
   "source": [
    "# in 9019, {1 gat conv + 1 tlayer } x 5 \n",
    "import torch \n",
    "\n",
    "test = torch.tensor([0.3050, 0.3014, 0.2967, 0.2978, 0.3000, 0.3028, 0.2908, 0.2991, 0.2999, 0.3011]) \n",
    "test.mean(), test.std() "
   ]
  },
  {
   "cell_type": "code",
   "execution_count": 4,
   "metadata": {},
   "outputs": [
    {
     "data": {
      "text/plain": [
       "(tensor(0.3109), tensor(0.0022))"
      ]
     },
     "execution_count": 4,
     "metadata": {},
     "output_type": "execute_result"
    }
   ],
   "source": [
    "val = torch.tensor([0.3142, 0.3115, 0.3131, 0.3089, 0.3122, 0.3076, 0.3085, 0.3100, 0.3132, 0.3101]) \n",
    "val.mean(), val.std() "
   ]
  },
  {
   "cell_type": "code",
   "execution_count": 2,
   "metadata": {},
   "outputs": [
    {
     "data": {
      "text/plain": [
       "(tensor(0.3040), tensor(0.0029), torch.Size([10]))"
      ]
     },
     "execution_count": 2,
     "metadata": {},
     "output_type": "execute_result"
    }
   ],
   "source": [
    "# LGI-GT  \n",
    "\n",
    "import torch \n",
    "\n",
    "test = torch.tensor([0.3008, 0.3020, 0.3069, 0.3088, 0.3043, 0.3010, 0.3053, 0.3073, 0.3016, 0.3025 ]) \n",
    "test.mean(), test.std(), test.shape "
   ]
  },
  {
   "cell_type": "code",
   "execution_count": 3,
   "metadata": {},
   "outputs": [
    {
     "data": {
      "text/plain": [
       "(tensor(0.3134), tensor(0.0026), torch.Size([10]))"
      ]
     },
     "execution_count": 3,
     "metadata": {},
     "output_type": "execute_result"
    }
   ],
   "source": [
    "val = torch.tensor([0.3090, 0.3151, 0.3174, 0.3156, 0.3122, 0.3113, 0.3145, 0.3153, 0.3121, 0.3113  ]) \n",
    "val.mean(), val.std(), test.shape "
   ]
  }
 ],
 "metadata": {
  "interpreter": {
   "hash": "341944e75731248762244a78abc7aab60acf269663e2c4583244c63406468318"
  },
  "kernelspec": {
   "display_name": "Python 3.9.13 ('genv')",
   "language": "python",
   "name": "python3"
  },
  "language_info": {
   "codemirror_mode": {
    "name": "ipython",
    "version": 3
   },
   "file_extension": ".py",
   "mimetype": "text/x-python",
   "name": "python",
   "nbconvert_exporter": "python",
   "pygments_lexer": "ipython3",
   "version": "3.9.15"
  },
  "orig_nbformat": 4
 },
 "nbformat": 4,
 "nbformat_minor": 2
}
