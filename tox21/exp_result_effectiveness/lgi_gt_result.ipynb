{
 "cells": [
  {
   "cell_type": "code",
   "execution_count": 5,
   "metadata": {},
   "outputs": [
    {
     "data": {
      "text/plain": [
       "(torch.Size([10]), tensor(78.3000), tensor(0.5101))"
      ]
     },
     "execution_count": 5,
     "metadata": {},
     "output_type": "execute_result"
    }
   ],
   "source": [
    "import torch \n",
    "# 32 batch size, 256 hidden dim, 8 heads, --epochs 200 --warmup 20 --gconv-dropout 0.5 --tlayer-dropout 0.5 \n",
    "\n",
    "# device 0\n",
    "\n",
    "x = torch.tensor([78.66, 77.60, 78.58, 78.94, 77.80, 78.63, 78.98, 78.04, 77.86, 77.91]) \n",
    "x.shape, x.mean(), x.std() "
   ]
  },
  {
   "cell_type": "code",
   "execution_count": 2,
   "metadata": {},
   "outputs": [
    {
     "data": {
      "text/plain": [
       "(torch.Size([10]), tensor(78.1700), tensor(0.5667))"
      ]
     },
     "execution_count": 2,
     "metadata": {},
     "output_type": "execute_result"
    }
   ],
   "source": [
    "# device 1\n",
    "\n",
    "x = torch.tensor([77.88, 78.74, 78.57, 78.62, 77.91, 77.66, 78.28, 77.87, 79.00, 77.17]) \n",
    "x.shape, x.mean(), x.std() "
   ]
  },
  {
   "cell_type": "code",
   "execution_count": 3,
   "metadata": {},
   "outputs": [
    {
     "data": {
      "text/plain": [
       "(torch.Size([10]), tensor(81.5400), tensor(0.3388))"
      ]
     },
     "execution_count": 3,
     "metadata": {},
     "output_type": "execute_result"
    }
   ],
   "source": [
    "# val \n",
    "\n",
    "# device 0 \n",
    "\n",
    "x = torch.tensor([80.91, 81.99, 81.84, 81.66, 81.72, 81.56, 81.59, 81.42, 81.68, 81.03]) \n",
    "x.shape, x.mean(), x.std() "
   ]
  },
  {
   "cell_type": "code",
   "execution_count": 4,
   "metadata": {},
   "outputs": [
    {
     "data": {
      "text/plain": [
       "(torch.Size([10]), tensor(81.4900), tensor(0.3203))"
      ]
     },
     "execution_count": 4,
     "metadata": {},
     "output_type": "execute_result"
    }
   ],
   "source": [
    "# device 1 \n",
    "\n",
    "x = torch.tensor([81.81, 81.51, 81.80, 81.70, 81.53, 81.17, 81.41, 80.89, 81.86, 81.22]) \n",
    "x.shape, x.mean(), x.std() "
   ]
  }
 ],
 "metadata": {
  "interpreter": {
   "hash": "bfe7cb134f73dfab38ea71f95e95d39e5dab0c14c773e85f09e4509617755691"
  },
  "kernelspec": {
   "display_name": "Python 3.8.13 ('genv')",
   "language": "python",
   "name": "python3"
  },
  "language_info": {
   "codemirror_mode": {
    "name": "ipython",
    "version": 3
   },
   "file_extension": ".py",
   "mimetype": "text/x-python",
   "name": "python",
   "nbconvert_exporter": "python",
   "pygments_lexer": "ipython3",
   "version": "3.9.13"
  },
  "orig_nbformat": 4
 },
 "nbformat": 4,
 "nbformat_minor": 2
}
