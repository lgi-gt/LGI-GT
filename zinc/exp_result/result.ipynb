{
 "cells": [
  {
   "cell_type": "code",
   "execution_count": 1,
   "metadata": {},
   "outputs": [
    {
     "data": {
      "text/plain": [
       "(tensor(0.0686), tensor(0.0019), torch.Size([10]))"
      ]
     },
     "execution_count": 1,
     "metadata": {},
     "output_type": "execute_result"
    }
   ],
   "source": [
    "import torch \n",
    "\n",
    "test = torch.tensor([0.0654, 0.0681, 0.0685, 0.0692, 0.0711, 0.0689, 0.0718, 0.0678, 0.0664, 0.0687]) \n",
    "test.mean(), test.std(), test.shape "
   ]
  },
  {
   "cell_type": "code",
   "execution_count": 2,
   "metadata": {},
   "outputs": [
    {
     "data": {
      "text/plain": [
       "(tensor(0.0851), tensor(0.0051), torch.Size([10]))"
      ]
     },
     "execution_count": 2,
     "metadata": {},
     "output_type": "execute_result"
    }
   ],
   "source": [
    "val = torch.tensor([0.0898, 0.0848, 0.0823, 0.0814, 0.0799, 0.0857, 0.0908, 0.0761, 0.0886, 0.0913]) \n",
    "val.mean(), val.std(), val.shape "
   ]
  }
 ],
 "metadata": {
  "interpreter": {
   "hash": "bfe7cb134f73dfab38ea71f95e95d39e5dab0c14c773e85f09e4509617755691"
  },
  "kernelspec": {
   "display_name": "Python 3.8.13 ('genv')",
   "language": "python",
   "name": "python3"
  },
  "language_info": {
   "codemirror_mode": {
    "name": "ipython",
    "version": 3
   },
   "file_extension": ".py",
   "mimetype": "text/x-python",
   "name": "python",
   "nbconvert_exporter": "python",
   "pygments_lexer": "ipython3",
   "version": "3.8.13"
  },
  "orig_nbformat": 4
 },
 "nbformat": 4,
 "nbformat_minor": 2
}
