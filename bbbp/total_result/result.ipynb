{
 "cells": [
  {
   "cell_type": "code",
   "execution_count": 1,
   "metadata": {},
   "outputs": [
    {
     "data": {
      "text/plain": [
       "(tensor(69.4560), tensor(1.3611))"
      ]
     },
     "execution_count": 1,
     "metadata": {},
     "output_type": "execute_result"
    }
   ],
   "source": [
    "import torch \n",
    "\n",
    "test = torch.tensor([ \n",
    "    67.69, \n",
    "    66.64, \n",
    "    70.95, \n",
    "    70.11, \n",
    "    69.08, \n",
    "    69.66, \n",
    "    69.59, \n",
    "    70.93, \n",
    "    70.17, \n",
    "    69.74\n",
    "])\n",
    "test.mean(), test.std() "
   ]
  },
  {
   "cell_type": "code",
   "execution_count": 2,
   "metadata": {},
   "outputs": [
    {
     "data": {
      "text/plain": [
       "(tensor(64.4910), tensor(3.4818))"
      ]
     },
     "execution_count": 2,
     "metadata": {},
     "output_type": "execute_result"
    }
   ],
   "source": [
    "test = torch.tensor([ \n",
    "    65.84, \n",
    "    67.76, \n",
    "    58.37, \n",
    "    65.47, \n",
    "    65.83, \n",
    "    66.72, \n",
    "    64.83, \n",
    "    57.74, \n",
    "    66.33, \n",
    "    66.02\n",
    "]) \n",
    "test.mean(), test.std() "
   ]
  },
  {
   "cell_type": "code",
   "execution_count": 3,
   "metadata": {},
   "outputs": [
    {
     "data": {
      "text/plain": [
       "(tensor(69.9640), tensor(2.4966))"
      ]
     },
     "execution_count": 3,
     "metadata": {},
     "output_type": "execute_result"
    }
   ],
   "source": [
    "test = torch.tensor([ \n",
    "    70.96, \n",
    "    70.52, \n",
    "    64.89, \n",
    "    70.28, \n",
    "    70.08, \n",
    "    73.01, \n",
    "    73.05, \n",
    "    70.32, \n",
    "    69.72, \n",
    "    66.81\n",
    "])\n",
    "test.mean(), test.std() "
   ]
  },
  {
   "cell_type": "code",
   "execution_count": 1,
   "metadata": {},
   "outputs": [
    {
     "data": {
      "text/plain": [
       "(tensor(69.1030), tensor(1.0071))"
      ]
     },
     "execution_count": 1,
     "metadata": {},
     "output_type": "execute_result"
    }
   ],
   "source": [
    "import torch \n",
    "\n",
    "test = torch.tensor([ \n",
    "    69.36,\n",
    "    69.71,\n",
    "    67.20,\n",
    "    69.07,\n",
    "    69.83,\n",
    "    70.21,\n",
    "    67.75,\n",
    "    70.24,\n",
    "    68.98,\n",
    "    68.68\n",
    "])\n",
    "test.mean(), test.std() "
   ]
  }
 ],
 "metadata": {
  "interpreter": {
   "hash": "18fa4d5382df87a5c959387ae501063376e3cbd5d3c7ede593f8e825e8fa185a"
  },
  "kernelspec": {
   "display_name": "Python 3.9.0 ('genv')",
   "language": "python",
   "name": "python3"
  },
  "language_info": {
   "codemirror_mode": {
    "name": "ipython",
    "version": 3
   },
   "file_extension": ".py",
   "mimetype": "text/x-python",
   "name": "python",
   "nbconvert_exporter": "python",
   "pygments_lexer": "ipython3",
   "version": "3.9.15"
  },
  "orig_nbformat": 4
 },
 "nbformat": 4,
 "nbformat_minor": 2
}
