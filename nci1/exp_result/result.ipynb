{
 "cells": [
  {
   "cell_type": "code",
   "execution_count": 6,
   "metadata": {},
   "outputs": [
    {
     "data": {
      "text/plain": [
       "['Last T e:  96.41, T l:  0.1117 | Best Epoch:  96 | Best Val: 82.73 | Test Score: 85.16',\n",
       " '',\n",
       " 'Last T e:  96.65, T l:  0.1173 | Best Epoch:  40 | Best Val: 85.64 | Test Score: 81.75',\n",
       " '',\n",
       " 'Last T e:  97.26, T l:  0.1159 | Best Epoch:  56 | Best Val: 82.73 | Test Score: 83.21',\n",
       " '',\n",
       " 'Last T e:  96.41, T l:  0.1166 | Best Epoch:  35 | Best Val: 82.73 | Test Score: 84.43',\n",
       " '',\n",
       " 'Last T e:  95.89, T l:  0.1337 | Best Epoch:  58 | Best Val: 85.40 | Test Score: 82.97',\n",
       " '',\n",
       " 'Last T e:  96.41, T l:  0.1191 | Best Epoch:  74 | Best Val: 80.29 | Test Score: 81.75',\n",
       " '',\n",
       " 'Last T e:  95.77, T l:  0.1257 | Best Epoch:  47 | Best Val: 81.75 | Test Score: 80.29',\n",
       " '',\n",
       " 'Last T e:  96.99, T l:  0.1220 | Best Epoch:  27 | Best Val: 82.48 | Test Score: 79.81',\n",
       " '',\n",
       " 'Last T e:  96.20, T l:  0.1189 | Best Epoch:  85 | Best Val: 80.29 | Test Score: 82.00',\n",
       " '',\n",
       " 'Last T e:  96.44, T l:  0.1167 | Best Epoch:  47 | Best Val: 84.18 | Test Score: 84.18',\n",
       " '',\n",
       " 'Last T e:  95.99, T l:  0.1231 | Best Epoch:  41 | Best Val: 85.40 | Test Score: 80.54',\n",
       " '',\n",
       " 'Last T e:  96.56, T l:  0.1230 | Best Epoch:  46 | Best Val: 82.00 | Test Score: 82.24',\n",
       " '',\n",
       " 'Last T e:  96.20, T l:  0.1312 | Best Epoch:  58 | Best Val: 80.54 | Test Score: 84.18',\n",
       " '',\n",
       " 'Last T e:  95.59, T l:  0.1366 | Best Epoch:  92 | Best Val: 81.75 | Test Score: 79.56',\n",
       " '',\n",
       " 'Last T e:  95.99, T l:  0.1275 | Best Epoch:  87 | Best Val: 87.10 | Test Score: 82.24',\n",
       " '',\n",
       " 'Last T e:  96.26, T l:  0.1171 | Best Epoch:  79 | Best Val: 81.75 | Test Score: 82.48',\n",
       " '',\n",
       " 'Last T e:  97.26, T l:  0.1166 | Best Epoch:  60 | Best Val: 85.64 | Test Score: 84.18',\n",
       " '',\n",
       " 'Last T e:  96.23, T l:  0.1290 | Best Epoch:  82 | Best Val: 82.24 | Test Score: 82.97',\n",
       " '',\n",
       " 'Last T e:  96.35, T l:  0.1213 | Best Epoch:  80 | Best Val: 85.16 | Test Score: 78.83',\n",
       " '',\n",
       " 'Last T e:  96.41, T l:  0.1148 | Best Epoch:  59 | Best Val: 84.91 | Test Score: 83.70']"
      ]
     },
     "execution_count": 6,
     "metadata": {},
     "output_type": "execute_result"
    }
   ],
   "source": [
    "f = open('one_20runs_tmp.txt', 'r')  \n",
    "s = f.read() \n",
    "f.close() \n",
    "ss = s.split('\\n') \n",
    "ss "
   ]
  },
  {
   "cell_type": "code",
   "execution_count": 7,
   "metadata": {},
   "outputs": [
    {
     "data": {
      "text/plain": [
       "(20, 20)"
      ]
     },
     "execution_count": 7,
     "metadata": {},
     "output_type": "execute_result"
    }
   ],
   "source": [
    "val_list = [float(log.split('Val: ')[1][:5]) for log in ss if log != '' ] \n",
    "test_list = [float(log.split('Test Score: ')[1][:5]) for log in ss if log != '' ] \n",
    "len(val_list), len(test_list) "
   ]
  },
  {
   "cell_type": "code",
   "execution_count": 8,
   "metadata": {},
   "outputs": [
    {
     "data": {
      "text/plain": [
       "(tensor(82.323501586914062), tensor(1.786137819290161))"
      ]
     },
     "execution_count": 8,
     "metadata": {},
     "output_type": "execute_result"
    }
   ],
   "source": [
    "import torch \n",
    "\n",
    "test = torch.tensor(test_list) \n",
    "test.mean(), test.std() "
   ]
  },
  {
   "cell_type": "code",
   "execution_count": 9,
   "metadata": {},
   "outputs": [
    {
     "data": {
      "text/plain": [
       "(tensor(83.235504150390625), tensor(2.030816316604614))"
      ]
     },
     "execution_count": 9,
     "metadata": {},
     "output_type": "execute_result"
    }
   ],
   "source": [
    "val = torch.tensor(val_list) \n",
    "val.mean(), val.std() "
   ]
  },
  {
   "cell_type": "code",
   "execution_count": 10,
   "metadata": {},
   "outputs": [
    {
     "data": {
      "text/plain": [
       "(tensor(0.816544890403748), tensor(0.018316771835089))"
      ]
     },
     "execution_count": 10,
     "metadata": {},
     "output_type": "execute_result"
    }
   ],
   "source": [
    "import torch \n",
    "\n",
    "x = torch.tensor([\n",
    "0.7858880778588808,\n",
    "0.8126520681265207,\n",
    "0.8150851581508516,\n",
    "0.8467153284671532,\n",
    "0.8150851581508516,\n",
    "0.805352798053528,\n",
    "0.7956204379562044,\n",
    "0.8029197080291971,\n",
    "0.7858880778588808,\n",
    "0.8126520681265207,\n",
    "0.8272506082725061,\n",
    "0.8175182481751825,\n",
    "0.8223844282238443,\n",
    "0.8588807785888077,\n",
    "0.8345498783454988,\n",
    "0.829683698296837,\n",
    "0.8150851581508516,\n",
    "0.829683698296837,\n",
    "0.8029197080291971,\n",
    "0.8150851581508516])\n",
    "torch.set_printoptions(precision=15)\n",
    "x.mean(), x.std() "
   ]
  }
 ],
 "metadata": {
  "interpreter": {
   "hash": "bfe7cb134f73dfab38ea71f95e95d39e5dab0c14c773e85f09e4509617755691"
  },
  "kernelspec": {
   "display_name": "Python 3.8.13 ('genv')",
   "language": "python",
   "name": "python3"
  },
  "language_info": {
   "codemirror_mode": {
    "name": "ipython",
    "version": 3
   },
   "file_extension": ".py",
   "mimetype": "text/x-python",
   "name": "python",
   "nbconvert_exporter": "python",
   "pygments_lexer": "ipython3",
   "version": "3.9.13"
  },
  "orig_nbformat": 4
 },
 "nbformat": 4,
 "nbformat_minor": 2
}
