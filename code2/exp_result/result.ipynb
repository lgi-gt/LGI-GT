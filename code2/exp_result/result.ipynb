{
 "cells": [
  {
   "cell_type": "code",
   "execution_count": 1,
   "metadata": {},
   "outputs": [
    {
     "data": {
      "text/plain": [
       "(tensor(0.1943), tensor(0.0016))"
      ]
     },
     "execution_count": 1,
     "metadata": {},
     "output_type": "execute_result"
    }
   ],
   "source": [
    "import torch \n",
    "\n",
    "\n",
    "#### clip mode \n",
    "\n",
    "test = torch.tensor([0.1935, 0.1977, 0.1946, 0.1930, 0.1918, 0.1962, 0.1946, 0.1938, 0.1939, 0.1943 ]) \n",
    "\n",
    "test.mean(), test.std() "
   ]
  },
  {
   "cell_type": "code",
   "execution_count": 2,
   "metadata": {},
   "outputs": [
    {
     "data": {
      "text/plain": [
       "(tensor(0.1778), tensor(0.0013))"
      ]
     },
     "execution_count": 2,
     "metadata": {},
     "output_type": "execute_result"
    }
   ],
   "source": [
    "val = torch.tensor([0.1767, 0.1799, 0.1790, 0.1769, 0.1777, 0.1802, 0.1769, 0.1770, 0.1771, 0.1770 ]) \n",
    "\n",
    "val.mean(), val.std() "
   ]
  },
  {
   "cell_type": "code",
   "execution_count": 5,
   "metadata": {},
   "outputs": [
    {
     "data": {
      "text/plain": [
       "(tensor(0.1948), tensor(0.0024))"
      ]
     },
     "execution_count": 5,
     "metadata": {},
     "output_type": "execute_result"
    }
   ],
   "source": [
    "#### segment mode \n",
    "\n",
    "test = torch.tensor([0.1936, 0.1956, 0.1950, 0.1930, 0.1992, 0.1922, 0.1926, 0.1943, 0.1940, 0.1987 ]) \n",
    "\n",
    "test.mean(), test.std() "
   ]
  },
  {
   "cell_type": "code",
   "execution_count": 6,
   "metadata": {},
   "outputs": [
    {
     "data": {
      "text/plain": [
       "(tensor(0.1781), tensor(0.0019))"
      ]
     },
     "execution_count": 6,
     "metadata": {},
     "output_type": "execute_result"
    }
   ],
   "source": [
    "val = torch.tensor([0.1790, 0.1762, 0.1786, 0.1764, 0.1820, 0.1760, 0.1772, 0.1786, 0.1770, 0.1797  ]) \n",
    "\n",
    "val.mean(), val.std() "
   ]
  }
 ],
 "metadata": {
  "interpreter": {
   "hash": "341944e75731248762244a78abc7aab60acf269663e2c4583244c63406468318"
  },
  "kernelspec": {
   "display_name": "Python 3.9.13 ('genv')",
   "language": "python",
   "name": "python3"
  },
  "language_info": {
   "codemirror_mode": {
    "name": "ipython",
    "version": 3
   },
   "file_extension": ".py",
   "mimetype": "text/x-python",
   "name": "python",
   "nbconvert_exporter": "python",
   "pygments_lexer": "ipython3",
   "version": "3.9.13"
  },
  "orig_nbformat": 4
 },
 "nbformat": 4,
 "nbformat_minor": 2
}
