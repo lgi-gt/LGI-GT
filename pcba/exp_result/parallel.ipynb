{
 "cells": [
  {
   "cell_type": "code",
   "execution_count": 1,
   "metadata": {},
   "outputs": [
    {
     "data": {
      "text/plain": [
       "(tensor(0.2479), tensor(0.0030))"
      ]
     },
     "execution_count": 1,
     "metadata": {},
     "output_type": "execute_result"
    }
   ],
   "source": [
    "import torch \n",
    "\n",
    "eela = torch.tensor([ \n",
    "    0.2444,\n",
    "    0.2474,\n",
    "    0.2483,\n",
    "    0.2473,\n",
    "    0.2437,\n",
    "    0.2527,\n",
    "    0.2514,\n",
    "    0.2504,\n",
    "    0.2478,\n",
    "    0.2452\n",
    "])\n",
    "eela.mean(), eela.std() "
   ]
  },
  {
   "cell_type": "code",
   "execution_count": 1,
   "metadata": {},
   "outputs": [
    {
     "data": {
      "text/plain": [
       "(tensor(0.2366), tensor(0.0029))"
      ]
     },
     "execution_count": 1,
     "metadata": {},
     "output_type": "execute_result"
    }
   ],
   "source": [
    "import torch \n",
    "\n",
    "gatconv = torch.tensor([ \n",
    "    0.2342,\n",
    "    0.2322,\n",
    "    0.2383,\n",
    "    0.2394,\n",
    "    0.2403,\n",
    "    0.2359,\n",
    "    0.2381,\n",
    "    0.2336,\n",
    "    0.2342,\n",
    "    0.2397\n",
    "]) \n",
    "gatconv.mean(), gatconv.std() "
   ]
  },
  {
   "cell_type": "code",
   "execution_count": 2,
   "metadata": {},
   "outputs": [
    {
     "data": {
      "text/plain": [
       "(tensor(0.2401), tensor(0.0049))"
      ]
     },
     "execution_count": 2,
     "metadata": {},
     "output_type": "execute_result"
    }
   ],
   "source": [
    "import torch \n",
    "\n",
    "transformerconv = torch.tensor([ \n",
    "    0.2453,\n",
    "    0.2322,\n",
    "    0.2390,\n",
    "    0.2452,\n",
    "    0.2410,\n",
    "    0.2417,\n",
    "    0.2335,\n",
    "    0.2372,\n",
    "    0.2399,\n",
    "    0.2464\n",
    "]) \n",
    "transformerconv.mean(), transformerconv.std() "
   ]
  }
 ],
 "metadata": {
  "interpreter": {
   "hash": "341944e75731248762244a78abc7aab60acf269663e2c4583244c63406468318"
  },
  "kernelspec": {
   "display_name": "Python 3.9.15 64-bit ('genv': conda)",
   "language": "python",
   "name": "python3"
  },
  "language_info": {
   "codemirror_mode": {
    "name": "ipython",
    "version": 3
   },
   "file_extension": ".py",
   "mimetype": "text/x-python",
   "name": "python",
   "nbconvert_exporter": "python",
   "pygments_lexer": "ipython3",
   "version": "3.9.13"
  },
  "orig_nbformat": 4
 },
 "nbformat": 4,
 "nbformat_minor": 2
}
