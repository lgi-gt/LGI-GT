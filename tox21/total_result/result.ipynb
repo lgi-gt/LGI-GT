{
 "cells": [
  {
   "cell_type": "code",
   "execution_count": 1,
   "metadata": {},
   "outputs": [
    {
     "data": {
      "text/plain": [
       "(tensor(73.3830), tensor(0.6792))"
      ]
     },
     "execution_count": 1,
     "metadata": {},
     "output_type": "execute_result"
    }
   ],
   "source": [
    "import torch \n",
    "\n",
    "test = torch.tensor([ \n",
    "    74.00, \n",
    "    73.11, \n",
    "    73.93, \n",
    "    73.15, \n",
    "    74.04, \n",
    "    72.81, \n",
    "    73.45, \n",
    "    71.87, \n",
    "    73.59, \n",
    "    73.88 \n",
    "])\n",
    "test.mean(), test.std() "
   ]
  },
  {
   "cell_type": "code",
   "execution_count": 2,
   "metadata": {},
   "outputs": [
    {
     "data": {
      "text/plain": [
       "(tensor(73.2300), tensor(0.5692))"
      ]
     },
     "execution_count": 2,
     "metadata": {},
     "output_type": "execute_result"
    }
   ],
   "source": [
    "test = torch.tensor([ \n",
    "    72.85, \n",
    "    73.34, \n",
    "    73.66, \n",
    "    73.89, \n",
    "    72.32, \n",
    "    73.69, \n",
    "    73.28, \n",
    "    72.95, \n",
    "    72.45, \n",
    "    73.87\n",
    "])\n",
    "test.mean(), test.std() "
   ]
  },
  {
   "cell_type": "code",
   "execution_count": 3,
   "metadata": {},
   "outputs": [
    {
     "data": {
      "text/plain": [
       "(tensor(75.7300), tensor(0.8632))"
      ]
     },
     "execution_count": 3,
     "metadata": {},
     "output_type": "execute_result"
    }
   ],
   "source": [
    "test = torch.tensor([ \n",
    "    75.82, \n",
    "    75.80, \n",
    "    75.94, \n",
    "    77.13, \n",
    "    74.63, \n",
    "    75.83, \n",
    "    74.46, \n",
    "    76.72, \n",
    "    74.87, \n",
    "    76.10 \n",
    "])\n",
    "test.mean(), test.std() "
   ]
  },
  {
   "cell_type": "code",
   "execution_count": 1,
   "metadata": {},
   "outputs": [
    {
     "data": {
      "text/plain": [
       "(tensor(74.9890), tensor(0.5562))"
      ]
     },
     "execution_count": 1,
     "metadata": {},
     "output_type": "execute_result"
    }
   ],
   "source": [
    "import torch \n",
    "\n",
    "test = torch.tensor([ \n",
    "    74.67,\n",
    "    75.13,\n",
    "    74.32,\n",
    "    75.26,\n",
    "    74.18,\n",
    "    75.62,\n",
    "    75.94,\n",
    "    74.73,\n",
    "    74.78,\n",
    "    75.26\n",
    "])\n",
    "test.mean(), test.std() "
   ]
  }
 ],
 "metadata": {
  "interpreter": {
   "hash": "341944e75731248762244a78abc7aab60acf269663e2c4583244c63406468318"
  },
  "kernelspec": {
   "display_name": "Python 3.9.13 ('genv')",
   "language": "python",
   "name": "python3"
  },
  "language_info": {
   "codemirror_mode": {
    "name": "ipython",
    "version": 3
   },
   "file_extension": ".py",
   "mimetype": "text/x-python",
   "name": "python",
   "nbconvert_exporter": "python",
   "pygments_lexer": "ipython3",
   "version": "3.9.13"
  },
  "orig_nbformat": 4
 },
 "nbformat": 4,
 "nbformat_minor": 2
}
